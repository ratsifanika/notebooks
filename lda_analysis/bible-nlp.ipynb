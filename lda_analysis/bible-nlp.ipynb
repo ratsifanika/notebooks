{
 "cells": [
  {
   "cell_type": "code",
   "execution_count": 1,
   "id": "1508f505",
   "metadata": {},
   "outputs": [],
   "source": [
    "import pandas as pd\n",
    "import gensim\n",
    "import nltk\n",
    "from nltk.corpus import stopwords\n",
    "from nltk.tokenize import word_tokenize"
   ]
  },
  {
   "cell_type": "code",
   "execution_count": 2,
   "id": "5b704cb9",
   "metadata": {},
   "outputs": [
    {
     "data": {
      "text/html": [
       "<div>\n",
       "<style scoped>\n",
       "    .dataframe tbody tr th:only-of-type {\n",
       "        vertical-align: middle;\n",
       "    }\n",
       "\n",
       "    .dataframe tbody tr th {\n",
       "        vertical-align: top;\n",
       "    }\n",
       "\n",
       "    .dataframe thead th {\n",
       "        text-align: right;\n",
       "    }\n",
       "</style>\n",
       "<table border=\"1\" class=\"dataframe\">\n",
       "  <thead>\n",
       "    <tr style=\"text-align: right;\">\n",
       "      <th></th>\n",
       "      <th>field</th>\n",
       "      <th>field.1</th>\n",
       "      <th>field.2</th>\n",
       "      <th>field.3</th>\n",
       "      <th>field.4</th>\n",
       "    </tr>\n",
       "  </thead>\n",
       "  <tbody>\n",
       "    <tr>\n",
       "      <th>0</th>\n",
       "      <td>1001001</td>\n",
       "      <td>1</td>\n",
       "      <td>1</td>\n",
       "      <td>1</td>\n",
       "      <td>In the beginning God created the heavens and t...</td>\n",
       "    </tr>\n",
       "    <tr>\n",
       "      <th>1</th>\n",
       "      <td>1001002</td>\n",
       "      <td>1</td>\n",
       "      <td>1</td>\n",
       "      <td>2</td>\n",
       "      <td>And the earth was waste and void; and darkness...</td>\n",
       "    </tr>\n",
       "    <tr>\n",
       "      <th>2</th>\n",
       "      <td>1001003</td>\n",
       "      <td>1</td>\n",
       "      <td>1</td>\n",
       "      <td>3</td>\n",
       "      <td>And God said, Let there be light: and there wa...</td>\n",
       "    </tr>\n",
       "    <tr>\n",
       "      <th>3</th>\n",
       "      <td>1001004</td>\n",
       "      <td>1</td>\n",
       "      <td>1</td>\n",
       "      <td>4</td>\n",
       "      <td>And God saw the light, that it was good: and G...</td>\n",
       "    </tr>\n",
       "    <tr>\n",
       "      <th>4</th>\n",
       "      <td>1001005</td>\n",
       "      <td>1</td>\n",
       "      <td>1</td>\n",
       "      <td>5</td>\n",
       "      <td>And God called the light Day, and the darkness...</td>\n",
       "    </tr>\n",
       "  </tbody>\n",
       "</table>\n",
       "</div>"
      ],
      "text/plain": [
       "     field  field.1  field.2  field.3  \\\n",
       "0  1001001        1        1        1   \n",
       "1  1001002        1        1        2   \n",
       "2  1001003        1        1        3   \n",
       "3  1001004        1        1        4   \n",
       "4  1001005        1        1        5   \n",
       "\n",
       "                                             field.4  \n",
       "0  In the beginning God created the heavens and t...  \n",
       "1  And the earth was waste and void; and darkness...  \n",
       "2  And God said, Let there be light: and there wa...  \n",
       "3  And God saw the light, that it was good: and G...  \n",
       "4  And God called the light Day, and the darkness...  "
      ]
     },
     "execution_count": 2,
     "metadata": {},
     "output_type": "execute_result"
    }
   ],
   "source": [
    "data = pd.read_csv('t_asv.csv')\n",
    "data.head()"
   ]
  },
  {
   "cell_type": "markdown",
   "id": "76ce9ad2",
   "metadata": {},
   "source": [
    "# Data cleaning"
   ]
  },
  {
   "cell_type": "code",
   "execution_count": 3,
   "id": "bcfc74fc",
   "metadata": {},
   "outputs": [
    {
     "data": {
      "text/html": [
       "<div>\n",
       "<style scoped>\n",
       "    .dataframe tbody tr th:only-of-type {\n",
       "        vertical-align: middle;\n",
       "    }\n",
       "\n",
       "    .dataframe tbody tr th {\n",
       "        vertical-align: top;\n",
       "    }\n",
       "\n",
       "    .dataframe thead th {\n",
       "        text-align: right;\n",
       "    }\n",
       "</style>\n",
       "<table border=\"1\" class=\"dataframe\">\n",
       "  <thead>\n",
       "    <tr style=\"text-align: right;\">\n",
       "      <th></th>\n",
       "      <th>field</th>\n",
       "      <th>field.1</th>\n",
       "      <th>field.2</th>\n",
       "      <th>field.3</th>\n",
       "      <th>field.4</th>\n",
       "    </tr>\n",
       "  </thead>\n",
       "  <tbody>\n",
       "    <tr>\n",
       "      <th>0</th>\n",
       "      <td>1001001</td>\n",
       "      <td>1</td>\n",
       "      <td>1</td>\n",
       "      <td>1</td>\n",
       "      <td>In the beginning God created the heavens and t...</td>\n",
       "    </tr>\n",
       "    <tr>\n",
       "      <th>1</th>\n",
       "      <td>1001002</td>\n",
       "      <td>1</td>\n",
       "      <td>1</td>\n",
       "      <td>2</td>\n",
       "      <td>And the earth was waste and void and darkness ...</td>\n",
       "    </tr>\n",
       "    <tr>\n",
       "      <th>2</th>\n",
       "      <td>1001003</td>\n",
       "      <td>1</td>\n",
       "      <td>1</td>\n",
       "      <td>3</td>\n",
       "      <td>And God said Let there be light and there was ...</td>\n",
       "    </tr>\n",
       "    <tr>\n",
       "      <th>3</th>\n",
       "      <td>1001004</td>\n",
       "      <td>1</td>\n",
       "      <td>1</td>\n",
       "      <td>4</td>\n",
       "      <td>And God saw the light that it was good and God...</td>\n",
       "    </tr>\n",
       "    <tr>\n",
       "      <th>4</th>\n",
       "      <td>1001005</td>\n",
       "      <td>1</td>\n",
       "      <td>1</td>\n",
       "      <td>5</td>\n",
       "      <td>And God called the light Day and the darkness ...</td>\n",
       "    </tr>\n",
       "  </tbody>\n",
       "</table>\n",
       "</div>"
      ],
      "text/plain": [
       "     field  field.1  field.2  field.3  \\\n",
       "0  1001001        1        1        1   \n",
       "1  1001002        1        1        2   \n",
       "2  1001003        1        1        3   \n",
       "3  1001004        1        1        4   \n",
       "4  1001005        1        1        5   \n",
       "\n",
       "                                             field.4  \n",
       "0  In the beginning God created the heavens and t...  \n",
       "1  And the earth was waste and void and darkness ...  \n",
       "2  And God said Let there be light and there was ...  \n",
       "3  And God saw the light that it was good and God...  \n",
       "4  And God called the light Day and the darkness ...  "
      ]
     },
     "execution_count": 3,
     "metadata": {},
     "output_type": "execute_result"
    }
   ],
   "source": [
    "import re\n",
    "\n",
    "#remove ponctuation\n",
    "data['field.4'] = data['field.4'].map(lambda x:re.sub('[,:;\\.!?]', '', x))\n",
    "data.head()                                "
   ]
  },
  {
   "cell_type": "code",
   "execution_count": 4,
   "id": "a2ebb90f",
   "metadata": {},
   "outputs": [
    {
     "data": {
      "text/html": [
       "<div>\n",
       "<style scoped>\n",
       "    .dataframe tbody tr th:only-of-type {\n",
       "        vertical-align: middle;\n",
       "    }\n",
       "\n",
       "    .dataframe tbody tr th {\n",
       "        vertical-align: top;\n",
       "    }\n",
       "\n",
       "    .dataframe thead th {\n",
       "        text-align: right;\n",
       "    }\n",
       "</style>\n",
       "<table border=\"1\" class=\"dataframe\">\n",
       "  <thead>\n",
       "    <tr style=\"text-align: right;\">\n",
       "      <th></th>\n",
       "      <th>field</th>\n",
       "      <th>field.1</th>\n",
       "      <th>field.2</th>\n",
       "      <th>field.3</th>\n",
       "      <th>field.4</th>\n",
       "    </tr>\n",
       "  </thead>\n",
       "  <tbody>\n",
       "    <tr>\n",
       "      <th>0</th>\n",
       "      <td>1001001</td>\n",
       "      <td>1</td>\n",
       "      <td>1</td>\n",
       "      <td>1</td>\n",
       "      <td>in the beginning god created the heavens and t...</td>\n",
       "    </tr>\n",
       "    <tr>\n",
       "      <th>1</th>\n",
       "      <td>1001002</td>\n",
       "      <td>1</td>\n",
       "      <td>1</td>\n",
       "      <td>2</td>\n",
       "      <td>and the earth was waste and void and darkness ...</td>\n",
       "    </tr>\n",
       "    <tr>\n",
       "      <th>2</th>\n",
       "      <td>1001003</td>\n",
       "      <td>1</td>\n",
       "      <td>1</td>\n",
       "      <td>3</td>\n",
       "      <td>and god said let there be light and there was ...</td>\n",
       "    </tr>\n",
       "    <tr>\n",
       "      <th>3</th>\n",
       "      <td>1001004</td>\n",
       "      <td>1</td>\n",
       "      <td>1</td>\n",
       "      <td>4</td>\n",
       "      <td>and god saw the light that it was good and god...</td>\n",
       "    </tr>\n",
       "    <tr>\n",
       "      <th>4</th>\n",
       "      <td>1001005</td>\n",
       "      <td>1</td>\n",
       "      <td>1</td>\n",
       "      <td>5</td>\n",
       "      <td>and god called the light day and the darkness ...</td>\n",
       "    </tr>\n",
       "  </tbody>\n",
       "</table>\n",
       "</div>"
      ],
      "text/plain": [
       "     field  field.1  field.2  field.3  \\\n",
       "0  1001001        1        1        1   \n",
       "1  1001002        1        1        2   \n",
       "2  1001003        1        1        3   \n",
       "3  1001004        1        1        4   \n",
       "4  1001005        1        1        5   \n",
       "\n",
       "                                             field.4  \n",
       "0  in the beginning god created the heavens and t...  \n",
       "1  and the earth was waste and void and darkness ...  \n",
       "2  and god said let there be light and there was ...  \n",
       "3  and god saw the light that it was good and god...  \n",
       "4  and god called the light day and the darkness ...  "
      ]
     },
     "execution_count": 4,
     "metadata": {},
     "output_type": "execute_result"
    }
   ],
   "source": [
    "#convert to lowercase\n",
    "data['field.4'] = data['field.4'].map(lambda x:x.lower())\n",
    "data.head()"
   ]
  },
  {
   "cell_type": "code",
   "execution_count": 5,
   "id": "6f241948",
   "metadata": {},
   "outputs": [],
   "source": [
    "#remove stop word\n",
    "import gensim\n",
    "from gensim.utils import simple_preprocess\n",
    "from gensim.parsing.preprocessing import STOPWORDS\n",
    "\n",
    "def preprocess(txt):\n",
    "    preproc = \"\"\n",
    "    for token in simple_preprocess(txt):\n",
    "        if(token not in STOPWORDS and len(token)):\n",
    "            preproc = preproc+' '+token\n",
    "    return preproc"
   ]
  },
  {
   "cell_type": "code",
   "execution_count": 6,
   "id": "c27efb26",
   "metadata": {},
   "outputs": [
    {
     "name": "stdout",
     "output_type": "stream",
     "text": [
      "in the beginning god created the heavens and the earth\n",
      " beginning god created heavens earth\n"
     ]
    }
   ],
   "source": [
    "#test preprocess function\n",
    "test_txt = data.iloc[0,4]\n",
    "print(test_txt)\n",
    "preproc_txt = preprocess(test_txt)\n",
    "print(preproc_txt)"
   ]
  },
  {
   "cell_type": "markdown",
   "id": "9dad0b78",
   "metadata": {},
   "source": [
    "# EDA"
   ]
  },
  {
   "cell_type": "code",
   "execution_count": 7,
   "id": "3661fd72",
   "metadata": {},
   "outputs": [],
   "source": [
    "data['processed'] = data['field.4'].map(lambda x:preprocess(x))"
   ]
  },
  {
   "cell_type": "code",
   "execution_count": 8,
   "id": "6e0ee9fc",
   "metadata": {},
   "outputs": [
    {
     "data": {
      "text/plain": [
       "' earth waste void darkness face deep spirit god moved face waters'"
      ]
     },
     "execution_count": 8,
     "metadata": {},
     "output_type": "execute_result"
    }
   ],
   "source": [
    "data.iloc[1,5]"
   ]
  },
  {
   "cell_type": "markdown",
   "id": "9c980b4d",
   "metadata": {},
   "source": [
    "## WordCloud"
   ]
  },
  {
   "cell_type": "code",
   "execution_count": 9,
   "id": "b9e42ba1",
   "metadata": {},
   "outputs": [
    {
     "name": "stdout",
     "output_type": "stream",
     "text": [
      "Requirement already satisfied: wordcloud in /home/nika/anaconda3/lib/python3.9/site-packages (1.8.2.2)\n",
      "Requirement already satisfied: matplotlib in /home/nika/anaconda3/lib/python3.9/site-packages (from wordcloud) (3.5.1)\n",
      "Requirement already satisfied: pillow in /home/nika/anaconda3/lib/python3.9/site-packages (from wordcloud) (9.0.1)\n",
      "Requirement already satisfied: numpy>=1.6.1 in /home/nika/anaconda3/lib/python3.9/site-packages (from wordcloud) (1.21.5)\n",
      "Requirement already satisfied: pyparsing>=2.2.1 in /home/nika/anaconda3/lib/python3.9/site-packages (from matplotlib->wordcloud) (3.0.4)\n",
      "Requirement already satisfied: packaging>=20.0 in /home/nika/anaconda3/lib/python3.9/site-packages (from matplotlib->wordcloud) (21.3)\n",
      "Requirement already satisfied: fonttools>=4.22.0 in /home/nika/anaconda3/lib/python3.9/site-packages (from matplotlib->wordcloud) (4.25.0)\n",
      "Requirement already satisfied: kiwisolver>=1.0.1 in /home/nika/anaconda3/lib/python3.9/site-packages (from matplotlib->wordcloud) (1.3.2)\n",
      "Requirement already satisfied: cycler>=0.10 in /home/nika/anaconda3/lib/python3.9/site-packages (from matplotlib->wordcloud) (0.11.0)\n",
      "Requirement already satisfied: python-dateutil>=2.7 in /home/nika/anaconda3/lib/python3.9/site-packages (from matplotlib->wordcloud) (2.8.2)\n",
      "Requirement already satisfied: six>=1.5 in /home/nika/anaconda3/lib/python3.9/site-packages (from python-dateutil>=2.7->matplotlib->wordcloud) (1.16.0)\n"
     ]
    }
   ],
   "source": [
    "!pip install wordcloud  \n",
    "from wordcloud import WordCloud"
   ]
  },
  {
   "cell_type": "code",
   "execution_count": 10,
   "id": "fb5305f0",
   "metadata": {},
   "outputs": [],
   "source": [
    "long_string = ','.join(data['processed'].values)"
   ]
  },
  {
   "cell_type": "code",
   "execution_count": 11,
   "id": "acf2c1b6",
   "metadata": {},
   "outputs": [],
   "source": [
    "wordcloud = WordCloud(background_color=\"white\", max_words=5000, contour_width=3, contour_color='steelblue')"
   ]
  },
  {
   "cell_type": "code",
   "execution_count": 12,
   "id": "f08d837c",
   "metadata": {},
   "outputs": [
    {
     "data": {
      "text/plain": [
       "<wordcloud.wordcloud.WordCloud at 0x7f6afa40f400>"
      ]
     },
     "execution_count": 12,
     "metadata": {},
     "output_type": "execute_result"
    }
   ],
   "source": [
    "wordcloud.generate(long_string)"
   ]
  },
  {
   "cell_type": "code",
   "execution_count": 13,
   "id": "1c450b57",
   "metadata": {},
   "outputs": [
    {
     "data": {
      "image/png": "[encoded data removed]",
      "text/plain": [
       "<PIL.Image.Image image mode=RGB size=400x200 at 0x7F6AFA3AEFA0>"
      ]
     },
     "execution_count": 13,
     "metadata": {},
     "output_type": "execute_result"
    }
   ],
   "source": [
    "wordcloud.to_image()"
   ]
  },
  {
   "cell_type": "code",
   "execution_count": 14,
   "id": "690833ce",
   "metadata": {},
   "outputs": [],
   "source": [
    "tokens = []\n",
    "for verse in data['processed']:\n",
    "    tokens += list(gensim.utils.tokenize(verse))\n"
   ]
  },
  {
   "cell_type": "code",
   "execution_count": 18,
   "id": "79aa105c",
   "metadata": {},
   "outputs": [],
   "source": [
    "text_tokens = []\n",
    "for _,row in data.iterrows():\n",
    "    token = list(gensim.utils.tokenize(row['processed']))\n",
    "    text_tokens.append(token)\n"
   ]
  },
  {
   "cell_type": "code",
   "execution_count": 20,
   "id": "848baf2e",
   "metadata": {},
   "outputs": [
    {
     "data": {
      "text/plain": [
       "['earth',\n",
       " 'waste',\n",
       " 'void',\n",
       " 'darkness',\n",
       " 'face',\n",
       " 'deep',\n",
       " 'spirit',\n",
       " 'god',\n",
       " 'moved',\n",
       " 'face',\n",
       " 'waters']"
      ]
     },
     "execution_count": 20,
     "metadata": {},
     "output_type": "execute_result"
    }
   ],
   "source": [
    "text_tokens[1]"
   ]
  },
  {
   "cell_type": "code",
   "execution_count": 21,
   "id": "741420f9",
   "metadata": {},
   "outputs": [],
   "source": [
    "import gensim.corpora as corpora\n",
    "\n",
    "id2word = corpora.Dictionary(text_tokens)"
   ]
  },
  {
   "cell_type": "code",
   "execution_count": 23,
   "id": "960f51da",
   "metadata": {},
   "outputs": [],
   "source": [
    "texts = text_tokens"
   ]
  },
  {
   "cell_type": "code",
   "execution_count": 24,
   "id": "04594595",
   "metadata": {},
   "outputs": [],
   "source": [
    "corpus = [id2word.doc2bow(text) for text in texts]"
   ]
  },
  {
   "cell_type": "code",
   "execution_count": 26,
   "id": "42328411",
   "metadata": {},
   "outputs": [
    {
     "name": "stdout",
     "output_type": "stream",
     "text": [
      "[(0, 1), (1, 1), (2, 1), (3, 1), (4, 1)]\n"
     ]
    }
   ],
   "source": [
    "print(corpus[0])"
   ]
  },
  {
   "cell_type": "markdown",
   "id": "69d00750",
   "metadata": {},
   "source": [
    "## Training the LDA model"
   ]
  },
  {
   "cell_type": "code",
   "execution_count": 27,
   "id": "0dccae05",
   "metadata": {},
   "outputs": [
    {
     "name": "stdout",
     "output_type": "stream",
     "text": [
      "[(31,\n",
      "  '0.056*\"shall\" + 0.040*\"ye\" + 0.039*\"abraham\" + 0.033*\"seven\" + '\n",
      "  '0.030*\"cometh\" + 0.026*\"knoweth\" + 0.025*\"unto\" + 0.022*\"having\" + '\n",
      "  '0.020*\"demons\" + 0.018*\"god\"'),\n",
      " (18,\n",
      "  '0.069*\"thee\" + 0.045*\"unto\" + 0.044*\"shall\" + 0.036*\"righteousness\" + '\n",
      "  '0.025*\"thy\" + 0.023*\"mercy\" + 0.022*\"gift\" + 0.022*\"thou\" + 0.021*\"come\" + '\n",
      "  '0.020*\"poor\"'),\n",
      " (2,\n",
      "  '0.050*\"measure\" + 0.045*\"thereof\" + 0.039*\"gifts\" + 0.032*\"prison\" + '\n",
      "  '0.029*\"rich\" + 0.024*\"branches\" + 0.024*\"sold\" + 0.023*\"unto\" + '\n",
      "  '0.022*\"governor\" + 0.019*\"breadth\"'),\n",
      " (39,\n",
      "  '0.100*\"love\" + 0.086*\"thee\" + 0.060*\"unto\" + 0.055*\"thou\" + 0.055*\"thy\" + '\n",
      "  '0.050*\"god\" + 0.029*\"saith\" + 0.019*\"let\" + 0.017*\"better\" + '\n",
      "  '0.016*\"jehovah\"'),\n",
      " (23,\n",
      "  '0.051*\"lord\" + 0.050*\"unto\" + 0.040*\"blessed\" + 0.029*\"heaven\" + '\n",
      "  '0.029*\"amen\" + 0.027*\"god\" + 0.021*\"maketh\" + 0.018*\"jehovah\" + '\n",
      "  '0.018*\"hosts\" + 0.017*\"weak\"'),\n",
      " (45,\n",
      "  '0.056*\"sins\" + 0.056*\"received\" + 0.055*\"judgment\" + 0.054*\"write\" + '\n",
      "  '0.043*\"walk\" + 0.028*\"things\" + 0.028*\"gave\" + 0.026*\"sin\" + 0.021*\"god\" + '\n",
      "  '0.020*\"precious\"'),\n",
      " (14,\n",
      "  '0.077*\"truth\" + 0.065*\"thou\" + 0.033*\"taken\" + 0.032*\"thy\" + 0.029*\"shall\" '\n",
      "  '+ 0.025*\"shalt\" + 0.022*\"thee\" + 0.021*\"unto\" + 0.021*\"god\" + 0.016*\"away\"'),\n",
      " (27,\n",
      "  '0.150*\"things\" + 0.051*\"shall\" + 0.032*\"wise\" + 0.032*\"work\" + '\n",
      "  '0.031*\"manner\" + 0.030*\"god\" + 0.029*\"wisdom\" + 0.018*\"understanding\" + '\n",
      "  '0.017*\"man\" + 0.017*\"worship\"'),\n",
      " (16,\n",
      "  '0.035*\"heavens\" + 0.033*\"shall\" + 0.026*\"unto\" + 0.025*\"day\" + 0.021*\"ye\" + '\n",
      "  '0.021*\"end\" + 0.020*\"sabbath\" + 0.019*\"souls\" + 0.018*\"hath\" + '\n",
      "  '0.018*\"beasts\"'),\n",
      " (4,\n",
      "  '0.095*\"king\" + 0.050*\"shame\" + 0.050*\"sake\" + 0.049*\"unto\" + 0.044*\"kings\" '\n",
      "  '+ 0.024*\"great\" + 0.023*\"servant\" + 0.021*\"sent\" + 0.020*\"river\" + '\n",
      "  '0.018*\"came\"'),\n",
      " (11,\n",
      "  '0.061*\"high\" + 0.057*\"dead\" + 0.044*\"able\" + 0.032*\"saved\" + 0.024*\"repent\" '\n",
      "  '+ 0.022*\"war\" + 0.020*\"shall\" + 0.019*\"going\" + 0.018*\"bodies\" + '\n",
      "  '0.017*\"revealed\"'),\n",
      " (8,\n",
      "  '0.062*\"know\" + 0.057*\"god\" + 0.055*\"ye\" + 0.051*\"glory\" + 0.050*\"unto\" + '\n",
      "  '0.038*\"good\" + 0.037*\"evil\" + 0.036*\"thousand\" + 0.031*\"save\" + '\n",
      "  '0.020*\"works\"'),\n",
      " (9,\n",
      "  '0.105*\"unto\" + 0.069*\"god\" + 0.069*\"saying\" + 0.056*\"came\" + 0.040*\"word\" + '\n",
      "  '0.036*\"glory\" + 0.028*\"jehovah\" + 0.024*\"ye\" + 0.024*\"spake\" + '\n",
      "  '0.020*\"angels\"'),\n",
      " (44,\n",
      "  '0.119*\"yea\" + 0.052*\"new\" + 0.028*\"suffered\" + 0.026*\"old\" + 0.026*\"reign\" '\n",
      "  '+ 0.025*\"unto\" + 0.022*\"overcome\" + 0.020*\"arrayed\" + 0.020*\"glad\" + '\n",
      "  '0.018*\"man\"'),\n",
      " (38,\n",
      "  '0.071*\"father\" + 0.034*\"mother\" + 0.030*\"mouth\" + 0.024*\"sit\" + '\n",
      "  '0.024*\"unto\" + 0.024*\"spirits\" + 0.024*\"turn\" + 0.022*\"daughter\" + '\n",
      "  '0.021*\"saith\" + 0.020*\"wickedness\"'),\n",
      " (40,\n",
      "  '0.119*\"thy\" + 0.058*\"thou\" + 0.045*\"prophets\" + 0.036*\"god\" + 0.031*\"thee\" '\n",
      "  '+ 0.029*\"unto\" + 0.021*\"thine\" + 0.021*\"ought\" + 0.019*\"lord\" + '\n",
      "  '0.018*\"jehovah\"'),\n",
      " (24,\n",
      "  '0.053*\"thereof\" + 0.042*\"fruit\" + 0.030*\"tree\" + 0.029*\"doeth\" + '\n",
      "  '0.027*\"shall\" + 0.025*\"stumble\" + 0.023*\"sword\" + 0.020*\"sleep\" + '\n",
      "  '0.019*\"famine\" + 0.018*\"clothed\"'),\n",
      " (30,\n",
      "  '0.068*\"hear\" + 0.050*\"raised\" + 0.047*\"god\" + 0.042*\"knowledge\" + '\n",
      "  '0.030*\"killed\" + 0.027*\"earth\" + 0.025*\"unto\" + 0.022*\"died\" + '\n",
      "  '0.021*\"heaven\" + 0.019*\"iron\"'),\n",
      " (0,\n",
      "  '0.082*\"shall\" + 0.054*\"ye\" + 0.038*\"power\" + 0.030*\"strong\" + '\n",
      "  '0.024*\"standing\" + 0.023*\"multitude\" + 0.020*\"unto\" + 0.020*\"glory\" + '\n",
      "  '0.019*\"destruction\" + 0.018*\"blind\"'),\n",
      " (13,\n",
      "  '0.066*\"chief\" + 0.062*\"light\" + 0.044*\"god\" + 0.037*\"night\" + 0.031*\"day\" + '\n",
      "  '0.030*\"wind\" + 0.029*\"salvation\" + 0.024*\"strength\" + 0.023*\"praise\" + '\n",
      "  '0.022*\"rule\"')]\n"
     ]
    }
   ],
   "source": [
    "from pprint import pprint\n",
    "\n",
    "n_topics = 50\n",
    "\n",
    "lda_model = gensim.models.LdaMulticore(corpus,n_topics,id2word)\n",
    "\n",
    "# Print the Keyword\n",
    "pprint(lda_model.print_topics())\n",
    "doc_lda = lda_model[corpus]"
   ]
  }
 ],
 "metadata": {
  "kernelspec": {
   "display_name": "Python 3.9.12 ('base')",
   "language": "python",
   "name": "python3"
  },
  "language_info": {
   "codemirror_mode": {
    "name": "ipython",
    "version": 3
   },
   "file_extension": ".py",
   "mimetype": "text/x-python",
   "name": "python",
   "nbconvert_exporter": "python",
   "pygments_lexer": "ipython3",
   "version": "3.9.12"
  },
  "vscode": {
   "interpreter": {
    "hash": "e9c251c7c87193d76c80de9994715973bbc1bbb0f3b841e972227b6b2429ed6a"
   }
  }
 },
 "nbformat": 4,
 "nbformat_minor": 5
}
